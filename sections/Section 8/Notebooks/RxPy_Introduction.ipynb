{
 "cells": [
  {
   "cell_type": "code",
   "execution_count": 1,
   "metadata": {
    "colab": {
     "base_uri": "https://localhost:8080/",
     "height": 34
    },
    "colab_type": "code",
    "id": "rmNcYzHdh3BW",
    "outputId": "c785978c-e6b5-40b2-d0de-f918eec40bf9"
   },
   "outputs": [
    {
     "name": "stdout",
     "output_type": "stream",
     "text": [
      "Requirement already satisfied: rx in /usr/local/lib/python3.6/dist-packages (1.6.1)\n"
     ]
    }
   ],
   "source": [
    "!pip install rx"
   ]
  },
  {
   "cell_type": "code",
   "execution_count": 0,
   "metadata": {
    "colab": {},
    "colab_type": "code",
    "id": "BkvYUx0iiFcw"
   },
   "outputs": [],
   "source": [
    "import rx"
   ]
  },
  {
   "cell_type": "markdown",
   "metadata": {
    "colab_type": "text",
    "id": "d1_kUGgoiqm_"
   },
   "source": [
    "# Observer\n",
    "There are the three events for observers  \n",
    "1. on_next() - the next element in stream is recieved (if it exists)  \n",
    "2. on_completed()- the subscribed stream has finished transmitting  \n",
    "3. on_error() - for dealing with errors while transmitting"
   ]
  },
  {
   "cell_type": "code",
   "execution_count": 0,
   "metadata": {
    "colab": {},
    "colab_type": "code",
    "id": "KFZ0yB6-k_24"
   },
   "outputs": [],
   "source": [
    "from rx import Observer, Observable\n",
    "\n",
    "class my_observer(Observer):\n",
    "  def on_next(self, input_data):\n",
    "    print(\"I have recieved {}\".format(input_data))\n",
    "   \n",
    "  def on_completed(self):\n",
    "    print(\"I have finished recieving data !\")\n",
    "  \n",
    "  def on_error(self):\n",
    "    # Define error according to your use case\n",
    "    pass"
   ]
  },
  {
   "cell_type": "markdown",
   "metadata": {
    "colab_type": "text",
    "id": "uv73eJD5mpPW"
   },
   "source": [
    "# Observable"
   ]
  },
  {
   "cell_type": "code",
   "execution_count": 0,
   "metadata": {
    "colab": {},
    "colab_type": "code",
    "id": "ampm0olmlj0r"
   },
   "outputs": [],
   "source": [
    "my_subscriber = Observable.from_(range(0, 20, 2))"
   ]
  },
  {
   "cell_type": "code",
   "execution_count": 12,
   "metadata": {
    "colab": {
     "base_uri": "https://localhost:8080/",
     "height": 208
    },
    "colab_type": "code",
    "id": "XaeXoNPKmvMI",
    "outputId": "3d17c51d-fbe0-436f-a605-c9cc14f63180"
   },
   "outputs": [
    {
     "name": "stdout",
     "output_type": "stream",
     "text": [
      "I have recieved 0\n",
      "I have recieved 2\n",
      "I have recieved 4\n",
      "I have recieved 6\n",
      "I have recieved 8\n",
      "I have recieved 10\n",
      "I have recieved 12\n",
      "I have recieved 14\n",
      "I have recieved 16\n",
      "I have recieved 18\n",
      "I have finished recieving data !\n"
     ]
    }
   ],
   "source": [
    "# Now attach the Observer(subscriber) to the Observable\n",
    "my_var = my_subscriber.subscribe(my_observer())"
   ]
  },
  {
   "cell_type": "markdown",
   "metadata": {
    "colab_type": "text",
    "id": "-edH2o44neqi"
   },
   "source": [
    "You can also use lamda function instead of creating observer class and defining the functions"
   ]
  },
  {
   "cell_type": "code",
   "execution_count": 14,
   "metadata": {
    "colab": {
     "base_uri": "https://localhost:8080/",
     "height": 225
    },
    "colab_type": "code",
    "id": "PJXo20HRnHR7",
    "outputId": "87619e25-4e69-4391-aba3-3b50ec020c50"
   },
   "outputs": [
    {
     "name": "stdout",
     "output_type": "stream",
     "text": [
      "I have recieved 0\n",
      "I have recieved 2\n",
      "I have recieved 4\n",
      "I have recieved 6\n",
      "I have recieved 8\n",
      "I have recieved 10\n",
      "I have recieved 12\n",
      "I have recieved 14\n",
      "I have recieved 16\n",
      "I have recieved 18\n",
      "completed\n"
     ]
    },
    {
     "data": {
      "text/plain": [
       "<rx.disposables.anonymousdisposable.AnonymousDisposable at 0x7fd5906ba390>"
      ]
     },
     "execution_count": 14,
     "metadata": {
      "tags": []
     },
     "output_type": "execute_result"
    }
   ],
   "source": [
    "my_subscriber.subscribe(on_next = lambda x: print(\"I have recieved {}\".format(x)), on_completed = lambda: print(\"completed\"))"
   ]
  }
 ],
 "metadata": {
  "colab": {
   "name": "RxPy - Introduction.ipynb",
   "provenance": [],
   "version": "0.3.2"
  },
  "kernelspec": {
   "display_name": "Python 3",
   "language": "python",
   "name": "python3"
  },
  "language_info": {
   "codemirror_mode": {
    "name": "ipython",
    "version": 3
   },
   "file_extension": ".py",
   "mimetype": "text/x-python",
   "name": "python",
   "nbconvert_exporter": "python",
   "pygments_lexer": "ipython3",
   "version": "3.7.6"
  }
 },
 "nbformat": 4,
 "nbformat_minor": 1
}
