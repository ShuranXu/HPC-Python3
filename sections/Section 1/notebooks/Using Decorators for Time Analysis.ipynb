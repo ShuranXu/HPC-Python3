{
 "cells": [
  {
   "cell_type": "markdown",
   "metadata": {},
   "source": [
    "# At the start of this video  \n",
    "1. We were able to use in-built data types in Python.\n",
    "2. We were able to use lambda expressions, iterators and generators.\n",
    "3. We used list and dictionary comprehensions for speedups."
   ]
  },
  {
   "cell_type": "markdown",
   "metadata": {},
   "source": [
    "# Creating Decorators"
   ]
  },
  {
   "cell_type": "code",
   "execution_count": 1,
   "metadata": {},
   "outputs": [],
   "source": [
    "def my_simple_function():\n",
    "    print(\"I am a normal function!\")"
   ]
  },
  {
   "cell_type": "code",
   "execution_count": 3,
   "metadata": {},
   "outputs": [
    {
     "name": "stdout",
     "output_type": "stream",
     "text": [
      "I am a normal function!\n"
     ]
    }
   ],
   "source": [
    "my_simple_function()"
   ]
  },
  {
   "cell_type": "code",
   "execution_count": 8,
   "metadata": {},
   "outputs": [],
   "source": [
    "# Decorator definition\n",
    "def my_decorator(my_fn):\n",
    "    \n",
    "    # This function modifies the existing function\n",
    "    def modified_function():\n",
    "        print(\"This is the Start of decorated function!\")\n",
    "        my_fn()\n",
    "        print(\"This is the End of decorated function!\")\n",
    "        \n",
    "    # Return the modified function\n",
    "    return modified_function"
   ]
  },
  {
   "cell_type": "code",
   "execution_count": 9,
   "metadata": {},
   "outputs": [],
   "source": [
    "my_new_function = my_decorator(my_simple_function)"
   ]
  },
  {
   "cell_type": "code",
   "execution_count": 10,
   "metadata": {},
   "outputs": [
    {
     "name": "stdout",
     "output_type": "stream",
     "text": [
      "This is the Start of decorated function!\n",
      "I am a normal function!\n",
      "This is the End of decorated function!\n"
     ]
    }
   ],
   "source": [
    "my_new_function()"
   ]
  },
  {
   "cell_type": "markdown",
   "metadata": {},
   "source": [
    "# Using @notation for decorators"
   ]
  },
  {
   "cell_type": "code",
   "execution_count": 11,
   "metadata": {},
   "outputs": [],
   "source": [
    "@my_decorator\n",
    "def my_other_simple_function():\n",
    "    print(\"I do nothing !\")"
   ]
  },
  {
   "cell_type": "code",
   "execution_count": 13,
   "metadata": {},
   "outputs": [
    {
     "name": "stdout",
     "output_type": "stream",
     "text": [
      "This is the Start of decorated function!\n",
      "I do nothing !\n",
      "This is the End of decorated function!\n"
     ]
    }
   ],
   "source": [
    "my_other_simple_function()"
   ]
  },
  {
   "cell_type": "markdown",
   "metadata": {},
   "source": [
    "# Using arguments inside decorators"
   ]
  },
  {
   "cell_type": "code",
   "execution_count": 18,
   "metadata": {},
   "outputs": [],
   "source": [
    "# Decorator definition\n",
    "def my_better_decorator(my_fn):\n",
    "    \n",
    "    # This function modifies the existing function and add the arguments\n",
    "    def modified_function(*args, **kwargs):\n",
    "        print(\"This is the Start of decorated function!\")\n",
    "        my_fn(*args, **kwargs)\n",
    "        print(\"This is the End of decorated function!\")\n",
    "        \n",
    "    # Return the modified function\n",
    "    return modified_function"
   ]
  },
  {
   "cell_type": "code",
   "execution_count": 19,
   "metadata": {},
   "outputs": [],
   "source": [
    "@my_better_decorator\n",
    "def my_adder(x, y):\n",
    "    print(\"Sum of x and y is {}\".format(x+y))"
   ]
  },
  {
   "cell_type": "code",
   "execution_count": 20,
   "metadata": {},
   "outputs": [
    {
     "name": "stdout",
     "output_type": "stream",
     "text": [
      "This is the Start of decorated function!\n",
      "Sum of x and y is 12\n",
      "This is the End of decorated function!\n"
     ]
    }
   ],
   "source": [
    "my_adder(5, 7)"
   ]
  },
  {
   "cell_type": "markdown",
   "metadata": {},
   "source": [
    "# Using decorator for Time Analysis"
   ]
  },
  {
   "cell_type": "code",
   "execution_count": 21,
   "metadata": {},
   "outputs": [],
   "source": [
    "import time\n",
    "\n",
    "def time_decorator(my_func):\n",
    "    def modified_func(*args, **kwargs):\n",
    "        start = time.time()\n",
    "        my_func(*args, **kwargs)\n",
    "        end = time.time()\n",
    "        print(\"Time taken is {} seconds\".format(end - start))\n",
    "    return modified_func"
   ]
  },
  {
   "cell_type": "code",
   "execution_count": 22,
   "metadata": {},
   "outputs": [],
   "source": [
    "@time_decorator\n",
    "def create_big_list(size):\n",
    "    new_list = []\n",
    "    for x in range(0, size):\n",
    "        new_list.append(x)\n",
    "    "
   ]
  },
  {
   "cell_type": "code",
   "execution_count": 23,
   "metadata": {},
   "outputs": [
    {
     "name": "stdout",
     "output_type": "stream",
     "text": [
      "Time taken is 7.1502461433410645 seconds\n"
     ]
    }
   ],
   "source": [
    "create_big_list(100000000)"
   ]
  },
  {
   "cell_type": "code",
   "execution_count": 24,
   "metadata": {},
   "outputs": [],
   "source": [
    "@time_decorator\n",
    "def create_big_list_better(size):\n",
    "    return [x for x in range(0 , size)]"
   ]
  },
  {
   "cell_type": "code",
   "execution_count": 25,
   "metadata": {},
   "outputs": [
    {
     "name": "stdout",
     "output_type": "stream",
     "text": [
      "Time taken is 4.186031341552734 seconds\n"
     ]
    }
   ],
   "source": [
    "create_big_list_better(100000000)"
   ]
  },
  {
   "cell_type": "markdown",
   "metadata": {},
   "source": [
    "# By the end of this video  \n",
    "1. We will be able to use decorators in our code.\n",
    "2. We will be able to implement decorators with arguments.\n",
    "3. We will use decorators to do time analysis for our code."
   ]
  },
  {
   "cell_type": "code",
   "execution_count": null,
   "metadata": {},
   "outputs": [],
   "source": []
  }
 ],
 "metadata": {
  "kernelspec": {
   "display_name": "Python 3",
   "language": "python",
   "name": "python3"
  },
  "language_info": {
   "codemirror_mode": {
    "name": "ipython",
    "version": 3
   },
   "file_extension": ".py",
   "mimetype": "text/x-python",
   "name": "python",
   "nbconvert_exporter": "python",
   "pygments_lexer": "ipython3",
   "version": "3.7.6"
  }
 },
 "nbformat": 4,
 "nbformat_minor": 2
}
